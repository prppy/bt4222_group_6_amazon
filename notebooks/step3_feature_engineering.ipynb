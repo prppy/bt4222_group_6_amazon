{
 "cells": [
  {
   "cell_type": "markdown",
   "metadata": {
    "id": "Nab_mNqVEGWo"
   },
   "source": [
    "# 3. Feature Engineering"
   ]
  },
  {
   "cell_type": "markdown",
   "metadata": {
    "id": "IF3GfvlFENyD"
   },
   "source": [
    "# 3.1 Load Data\n",
    "Loads the primary review dataset (filtered_reviews.csv) from Google Drive into a DataFrame for feature engineering."
   ]
  },
  {
   "cell_type": "code",
   "execution_count": null,
   "metadata": {
    "colab": {
     "base_uri": "https://localhost:8080/"
    },
    "id": "Mu8HtKTEhWTR",
    "outputId": "cff46e0d-86a8-4d87-d428-8272db9d4292"
   },
   "outputs": [],
   "source": [
    "from google.colab import drive\n",
    "import os\n",
    "import pandas as pd\n",
    "import matplotlib.pyplot as plt\n",
    "import seaborn as sns\n",
    "import numpy as np\n",
    "\n",
    "# Mount Google Drive\n",
    "drive.mount('/content/drive', force_remount=True)\n",
    "\n",
    "# Define project paths\n",
    "project_dir = '/content/drive/MyDrive/bt4222_group_6/bt4222_group_6_amazon'\n",
    "data_dir = '/content/drive/MyDrive/bt4222_group_6/bt4222_group_6_amazon/data'\n",
    "\n",
    "df_reviews = pd.read_csv(os.path.join(data_dir, 'filtered_reviews.csv'))"
   ]
  },
  {
   "cell_type": "markdown",
   "metadata": {
    "id": "D7lqIbviJ5sJ"
   },
   "source": [
    "## 3.2 Temporal Feature Engineering\n",
    "Adds several temporal features to the dataset:\n",
    "\n",
    "- **temporal_purchase_sequence**: list of previously purchased products per user\n",
    "\n",
    "- **previous_purchase** and **subsequent_purchase**: previous and next products purchased by the user\n",
    "\n",
    "- **time_since_last_purchase**: days since the user's last purchase\n",
    "\n",
    "- **purchases_last_4_years**: total number of purchased (based on number of reviews written by that user) by a user\n",
    "\n",
    "- **monthly_purchase_frequency**: normalised monthly purchase rate in the past 4-years"
   ]
  },
  {
   "cell_type": "code",
   "execution_count": null,
   "metadata": {
    "colab": {
     "base_uri": "https://localhost:8080/"
    },
    "id": "_X_WE_5NKGWp",
    "outputId": "07549333-27f8-4af1-d726-6914005742fa"
   },
   "outputs": [],
   "source": [
    "def engineer_features(df):\n",
    "    df['review_date'] = pd.to_datetime(df['review_date'])\n",
    "    df = df.sort_values(by=['customer_id', 'review_date']).copy()\n",
    "\n",
    "    def get_temporal_seq(series):\n",
    "        result = []\n",
    "        seqs = []\n",
    "        for val in series:\n",
    "            seqs.append(result.copy())\n",
    "            result.append(val)\n",
    "        return pd.Series(seqs, index=series.index)\n",
    "\n",
    "    df['temporal_purchase_sequence'] = df.groupby('customer_id')['product_id'].transform(get_temporal_seq)\n",
    "    df['previous_purchase'] = df.groupby('customer_id')['product_id'].shift(1)\n",
    "    df['previous_purchase'] = df['previous_purchase'].fillna('')  # fill NaN with empty string\n",
    "\n",
    "    df['subsequent_purchase'] = df.groupby('customer_id')['product_id'].shift(-1)\n",
    "    df['subsequent_purchase'] = df['subsequent_purchase'].fillna('')  # fill NaN with empty string\n",
    "\n",
    "    df['time_since_last_purchase'] = df.groupby('customer_id')['review_date'].diff().dt.days\n",
    "    df['time_since_last_purchase'] = df['time_since_last_purchase'].fillna(0).astype(int)\n",
    "\n",
    "    df['purchases_last_4_years'] = df.groupby('customer_id')['product_id'].transform('count')\n",
    "    df['monthly_purchase_frequency'] = df['purchases_last_4_years'] / 48.0\n",
    "\n",
    "\n",
    "    return df\n",
    "\n",
    "\n",
    "df_reviews = engineer_features(df_reviews)\n",
    "print(df_reviews.columns.tolist())"
   ]
  },
  {
   "cell_type": "markdown",
   "metadata": {
    "id": "BFXGzB4N-bFh"
   },
   "source": [
    "## 3.3 Product Feature Engineering\n",
    "\n",
    "Add product and user specific features:\n",
    "\n",
    "- **parent_product_average_rating**: average rating grouped by product_parent\n",
    "\n",
    "- **product_id_average_rating**: average rating grouped by product_id\n",
    "\n",
    "- **sum_helpfulvotes** and **sum_totalvotes**: total helpful and total votes per customer"
   ]
  },
  {
   "cell_type": "code",
   "execution_count": null,
   "metadata": {
    "colab": {
     "base_uri": "https://localhost:8080/"
    },
    "id": "ObZU0wSsb16j",
    "outputId": "583c6c13-2256-4166-fd76-ef31ec9ed38a"
   },
   "outputs": [],
   "source": [
    "# Group by product_parent and compute average star_rating\n",
    "parent_avg_rating = df_reviews.groupby('product_parent')['star_rating'].mean().rename('parent_product_average_rating')\n",
    "\n",
    "# Merge it back to the original df\n",
    "df_reviews = df_reviews.merge(parent_avg_rating, on='product_parent', how='left')\n",
    "\n",
    "# Group by product_id and compute average star_rating\n",
    "product_id_avg_rating = df_reviews.groupby('product_id')['star_rating'].mean().rename('product_id_average_rating')\n",
    "\n",
    "# Merge it back to the original df\n",
    "df_reviews = df_reviews.merge(product_id_avg_rating, on='product_id', how='left')\n",
    "\n",
    "# Group by customer_id and sum helpful_votes\n",
    "user_helpful_votes = df_reviews.groupby('customer_id')['helpful_votes'].sum().rename('sum_helpfulvotes')\n",
    "\n",
    "# Merge back\n",
    "df_reviews = df_reviews.merge(user_helpful_votes, on='customer_id', how='left')\n",
    "\n",
    "# Group by customer_id and sum total_votes\n",
    "user_total_votes = df_reviews.groupby('customer_id')['total_votes'].sum().rename('sum_totalvotes')\n",
    "\n",
    "# Merge back\n",
    "df_reviews = df_reviews.merge(user_total_votes, on='customer_id', how='left')\n",
    "\n",
    "print(df_reviews[['product_parent', 'parent_product_average_rating', 'customer_id', 'sum_helpfulvotes', 'sum_totalvotes']].head())"
   ]
  },
  {
   "cell_type": "markdown",
   "metadata": {
    "id": "-UOkd71NViZM"
   },
   "source": [
    "## 3.4 Sentiment Analysis\n",
    "We will be using a fine-tuned distiled BERT model for sentiment analysis on the review headers and description. This model was obtained from this website below and categorises each review into \"positive\" and \"negative\" respectively. The dataset is processed in 3 batches and saved as:\n",
    "\n",
    "1. filtered_reviews_with_features_batch_1.csv\n",
    "\n",
    "2. filtered_reviews_with_features_batch_2.csv\n",
    "\n",
    "3. filtered_reviews_with_features_batch_3.csv\n",
    "\n",
    "https://huggingface.co/sohan-ai/sentiment-analysis-model-amazon-reviews"
   ]
  },
  {
   "cell_type": "code",
   "execution_count": null,
   "metadata": {
    "colab": {
     "base_uri": "https://localhost:8080/",
     "height": 415,
     "referenced_widgets": [
      "49223348dd374d5f869085c2ebf4d6ea",
      "5462847738234ad5accac2d8aee25bf5",
      "9dcf25d55814452f82cd013249461458",
      "e3ead2d12d17464e92ebeb4e952bb2b3",
      "bf671061e98b49b8a3b57399bd8b83e6",
      "8544dd5719da42188536091efb57ede4",
      "b64b7ba2e6c8428caea18a3432a2f546",
      "64f0671d88124fb09ebe5cdde658e0c2",
      "99989bba77944158aa74ab61eca1ea56",
      "5bde1e3dc4a344de9246b1c4417284c5",
      "c1df7ca942554f63bb2be447aafa886c",
      "051e61644cd240eaa5a179e6b5f69b17",
      "79a05e28e781478c81858f823856263c",
      "7a57db6957f54dde89e48ce4668a1da8",
      "f4fbb331121d4e0a889a6a6911e343a6",
      "792b105654994456933036b1199879d1",
      "5ccd6b69e4504e90b49966e402d641a8",
      "f74fedaf19394318af02a6805176be0b",
      "29e4a6c70c4147c4b4c5ade41106a33e",
      "e6668703894043968d23c2b41de3d752",
      "d90a17dea4674c79be5925ec2d32abb4",
      "909adffa8e1c40deb9f824c9ec4a7845",
      "2fa9090699ba485d9bb0ed5768efcd4e",
      "1e4974cfd59c41e2bb6fe0595bf88436",
      "2d6eacb5af124291a33946905d75ff9f",
      "3d0ada2e8a334e449bd445158f8c3d05",
      "53860e156e5d4093a15c7c867129ef14",
      "8cc88d340b8442a8a74c03d7b0ccfc70",
      "4459ee0ed58744939bcf1a46fd5d8a9f",
      "ad0c2ad2132741f5ad118e4fda177440",
      "d8bef586fb71450b9897c1754e569015",
      "b5462f4f31f34b6ab332b744ac329715",
      "030e8e28f9af4065a5966573542abdaa",
      "93b1eccaac1543b7b76acdabe5048775",
      "ffba20bd196746efb26e323d5dc49788",
      "d0545354054f4340bb1092c832a458f2",
      "ee5958d196e0414681b69018aa80c0f0",
      "38eaff893d644f2eafd943b1b5d93452",
      "ef1f767cc1d2473189daf89acb14d641",
      "83bd1f69fc194c88a441cd03a375173c",
      "fe817afcd6124a59a9f512ef8cf8e9b8",
      "6935bb72bf7348749b4d9626a6330f15",
      "f9bbef65ffd54e6fbdc412451ed8b8f9",
      "022e85a3720042ec9738e06778a51363",
      "53e33238a0224f4688e729d9f2161915",
      "8304582b049c4376a8ea150c8202c8b1",
      "4057114162f64cb89755dc1425de5b0f",
      "c0b062e065e84763a8426f7467c8b08b",
      "4cc6827e185c43a6a61a65f47c345a68",
      "4319efa7aa35464798eb6bc0072b9ac9",
      "abb000bc70a24c6ea3278e9e27fee026",
      "c2f7cf681c644dd6ab51bbf187d188a9",
      "2f6c11caf32d487eab5cbf31d2006e46",
      "19a1c120165d4ab18f3ef750f2734942",
      "b484ba2b1307436ea088609e14abc647",
      "955cc14e003d4ca58df671adb97a82c1",
      "a1a26d33b42d4261834cfc75d820a63b",
      "22a95db0fe5349d29f3ac2be84ec71d0",
      "995e53cfe2ff48fcb838b9c844bbd4e2",
      "8ec9a06a63e642aebd3cb553d81114e2",
      "76d1230afa9b4983884a0f781745031d",
      "17e34cc2e5a44e4eb0c98a8a5dcc6dc8",
      "ba8129ae679a4bc190351cd4e2848c90",
      "6d02b8d7587844d3af9daad0325f024e",
      "a21571ae973746158792cd519ee871ff",
      "ec18b817bf88433c920a3bbdebc7ed13",
      "13b4f17de6c4456a9607489ee9159f6f",
      "1ba10dc24b404aca8bf6c131ac177dcf",
      "b2f35ecbe8d943fb87a84af3eacfbfef",
      "7bc2277fd1c9441c928a78c012fcf0f8",
      "9042412cc6e54500a76540f250b3b212",
      "7d2ae8d419cf4cec883ff8bdc1ed4f20",
      "aed517390539413a807fdc11d25508d0",
      "6b8b25c942894befa506dd033d0d6e7b",
      "48dc80ab3d06491892266bf1b4207213",
      "8199b189394e40638aa19d2de23444db",
      "7e0f48417810498981f87c309a93ba82"
     ]
    },
    "id": "d_fV2aoxUNt9",
    "outputId": "d9cdb85d-ea8a-47c8-a085-4d980fc16bec"
   },
   "outputs": [],
   "source": [
    "from transformers import DistilBertTokenizer, DistilBertForSequenceClassification\n",
    "import torch\n",
    "from tqdm import tqdm\n",
    "\n",
    "\n",
    "# Load the tokenizer and model\n",
    "model_name = \"sohan-ai/sentiment-analysis-model-amazon-reviews\"\n",
    "tokenizer = DistilBertTokenizer.from_pretrained(\"distilbert-base-uncased\")\n",
    "model = DistilBertForSequenceClassification.from_pretrained(model_name)\n",
    "model.eval()  # Evaluation mode\n",
    "\n",
    "# Define the sentiment prediction function\n",
    "def get_sentiment(text):\n",
    "    inputs = tokenizer(text, return_tensors=\"pt\", truncation=True, padding=True)\n",
    "    with torch.no_grad():\n",
    "        outputs = model(**inputs)\n",
    "    logits = outputs.logits\n",
    "    return \"positive\" if logits.argmax().item() == 1 else \"negative\"\n",
    "\n",
    "# Combine headline and body (handle missing values)\n",
    "df_reviews['full_review'] = df_reviews['review_headline'].fillna('') + '. ' + df_reviews['review_body'].fillna('')\n",
    "\n",
    "# Apply the sentiment model row-by-row with a progress bar\n",
    "tqdm.pandas()\n",
    "\n",
    "batches = np.array_split(df_reviews, 3)\n",
    "\n",
    "# Run 3 batchs here\n",
    "for i in range(3):\n",
    "  batch = batches[i]\n",
    "  batch['sentiments'] = batch['full_review'].progress_apply(get_sentiment)\n",
    "  batch.to_csv(os.path.join(data_dir, f\"filtered_reviews_with_features_batch_{i+1}.csv\"), index=False)"
   ]
  },
  {
   "cell_type": "markdown",
   "metadata": {
    "id": "AvcCeSEOc68Q"
   },
   "source": [
    "### Export Data to CSV\n",
    "\n",
    "Combines the 3 batch CSV files into a single file filtered_reviews_with_features.csv. Also checks for duplicate rows across batches before saving."
   ]
  },
  {
   "cell_type": "code",
   "execution_count": null,
   "metadata": {
    "colab": {
     "base_uri": "https://localhost:8080/"
    },
    "id": "EMfRWjZehFZI",
    "outputId": "70a89576-cd94-4c97-cbcb-e0ed1a2f8e2a"
   },
   "outputs": [],
   "source": [
    "batch1 = pd.read_csv(os.path.join(data_dir, \"filtered_reviews_with_features_batch_1.csv\"))\n",
    "batch2 = pd.read_csv(os.path.join(data_dir, \"filtered_reviews_with_features_batch_2.csv\"))\n",
    "batch3 = pd.read_csv(os.path.join(data_dir, \"filtered_reviews_with_features_batch_3.csv\"))\n",
    "\n",
    "combined = pd.concat([batch1, batch2, batch3], axis=0).reset_index(drop=True)\n",
    "\n",
    "# Check for duplicate rows\n",
    "duplicates = combined[combined.duplicated(keep=False)]  # keep=False shows all duplicates\n",
    "\n",
    "# Print results\n",
    "if not duplicates.empty:\n",
    "    print(f\"Found {len(duplicates)} duplicate rows across batches.\")\n",
    "    display(duplicates.head())\n",
    "else:\n",
    "    print(\"No duplicate rows found across the batches.\")\n",
    "\n",
    "# Saved to CSV\n",
    "combined.to_csv(os.path.join(data_dir, \"filtered_reviews_with_features.csv\"), index=False)"
   ]
  },
  {
   "cell_type": "markdown",
   "metadata": {
    "id": "SaDrZisCkgNB"
   },
   "source": [
    "### Inspecting filtered_reviews_with_features dataset\n",
    "\n",
    "Loads the final merged dataset (filtered_reviews_with_features.csv) for inspection. Displays the shape, column names, and distribution of sentiment labels."
   ]
  },
  {
   "cell_type": "code",
   "execution_count": null,
   "metadata": {
    "colab": {
     "base_uri": "https://localhost:8080/"
    },
    "id": "1J5p6RxijLOJ",
    "outputId": "99441b9f-bb4a-4129-ccfd-04858e5a5cfd"
   },
   "outputs": [],
   "source": [
    "filtered_reviews_with_features = pd.read_csv(os.path.join(data_dir, \"filtered_reviews_with_features.csv\"))\n",
    "print(filtered_reviews_with_features.head())\n",
    "print(filtered_reviews_with_features.shape)\n",
    "print(filtered_reviews_with_features.columns.tolist())\n",
    "print(filtered_reviews_with_features['sentiments'].value_counts())"
   ]
  }
 ],
 "metadata": {
  "colab": {
   "gpuType": "T4",
   "provenance": []
  },
  "kernelspec": {
   "display_name": "Python 3",
   "name": "python3"
  },
  "language_info": {
   "name": "python"
  }
 },
 "nbformat": 4,
 "nbformat_minor": 0
}
